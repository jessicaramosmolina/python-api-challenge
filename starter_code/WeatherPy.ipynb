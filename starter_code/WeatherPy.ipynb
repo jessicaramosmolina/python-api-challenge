{
 "cells": [
  {
   "cell_type": "markdown",
   "metadata": {},
   "source": [
    "# WeatherPy\n",
    "----\n",
    "\n",
    "#### Note\n",
    "* Instructions have been included for each segment. You do not have to follow them exactly, but they are included to help you think through the steps."
   ]
  },
  {
   "cell_type": "code",
   "execution_count": 2,
   "metadata": {},
   "outputs": [
    {
     "name": "stdout",
     "output_type": "stream",
     "text": [
      "Collecting citipy\n",
      "  Using cached citipy-0.0.5.tar.gz (557 kB)\n",
      "Collecting kdtree>=0.12\n",
      "  Using cached kdtree-0.16-py2.py3-none-any.whl (7.7 kB)\n",
      "Building wheels for collected packages: citipy\n",
      "  Building wheel for citipy (setup.py) ... \u001b[?25ldone\n",
      "\u001b[?25h  Created wheel for citipy: filename=citipy-0.0.5-py3-none-any.whl size=559701 sha256=f492baeaab0330fefecbbb82b187705ba3113dd682c4c26816cf9713a8afcddb\n",
      "  Stored in directory: /Users/jessicaramosmolina/Library/Caches/pip/wheels/eb/07/14/1c448d9fabf3aceac66270933ecae15693974a1b7f91266841\n",
      "Successfully built citipy\n",
      "Installing collected packages: kdtree, citipy\n",
      "Successfully installed citipy-0.0.5 kdtree-0.16\n"
     ]
    }
   ],
   "source": [
    "#!pip install citipy"
   ]
  },
  {
   "cell_type": "code",
   "execution_count": 45,
   "metadata": {
    "scrolled": true
   },
   "outputs": [],
   "source": [
    "# Dependencies and Setup\n",
    "import matplotlib.pyplot as plt\n",
    "import pandas as pd\n",
    "import numpy as np\n",
    "import requests\n",
    "import time\n",
    "from scipy.stats import linregress\n",
    "import scipy.stats as st\n",
    "from pprint import pprint\n",
    "\n",
    "# Import API key\n",
    "from api_keys import weather_api_key\n",
    "\n",
    "# Incorporated citipy to determine city based on latitude and longitude\n",
    "from citipy import citipy\n",
    "\n",
    "# Output File (CSV)\n",
    "output_data_file = \"output_data/cities.csv\"\n",
    "\n",
    "# Range of latitudes and longitudes\n",
    "lat_range = (-90, 90)\n",
    "lng_range = (-180, 180)"
   ]
  },
  {
   "cell_type": "markdown",
   "metadata": {},
   "source": [
    "## Generate Cities List"
   ]
  },
  {
   "cell_type": "code",
   "execution_count": 2,
   "metadata": {},
   "outputs": [
    {
     "data": {
      "text/plain": [
       "615"
      ]
     },
     "execution_count": 2,
     "metadata": {},
     "output_type": "execute_result"
    }
   ],
   "source": [
    "# List for holding lat_lngs and cities\n",
    "lat_lngs = [] #this is where we pull the coordinates\n",
    "cities = [] #we are using the coordinates to loop to the list of cities\n",
    "\n",
    "# Create a set of random lat and lng combinations\n",
    "lats = np.random.uniform(lat_range[0], lat_range[1], size=1500)\n",
    "lngs = np.random.uniform(lng_range[0], lng_range[1], size=1500)\n",
    "lat_lngs = zip(lats, lngs)\n",
    "\n",
    "# Identify nearest city for each lat, lng combination\n",
    "for lat_lng in lat_lngs:\n",
    "    city = citipy.nearest_city(lat_lng[0], lat_lng[1]).city_name\n",
    "    \n",
    "    # If the city is unique, then add it to a our cities list\n",
    "    if city not in cities:\n",
    "        cities.append(city)\n",
    "\n",
    "# Print the city count to confirm sufficient count\n",
    "len(cities)\n",
    "#the output changes everytime we have the np.radom unit form, it is randomizes the results so it will change"
   ]
  },
  {
   "cell_type": "markdown",
   "metadata": {},
   "source": [
    "### Perform API Calls\n",
    "* Perform a weather check on each city using a series of successive API calls.\n",
    "* Include a print log of each city as it'sbeing processed (with the city number and city name).\n"
   ]
  },
  {
   "cell_type": "code",
   "execution_count": 3,
   "metadata": {},
   "outputs": [
    {
     "name": "stdout",
     "output_type": "stream",
     "text": [
      "http://api.openweathermap.org/data/2.5/weather?appid=f2deb80b0bea75908cebab9ed8582510&units=imperial&q=\n"
     ]
    }
   ],
   "source": [
    "#this is the link we use to pull weather information, after ? we will hava parameters\n",
    "url = 'http://api.openweathermap.org/data/2.5/weather?' \n",
    "\n",
    "#build query URL\n",
    "#\"appid\" is the application id, this is our API after the url \n",
    "#\"&q=\" is the query - extensions of the URL help determine specific content or action based on the data being delivered\n",
    "#in this case our query is the city\n",
    "query_url = url + \"appid=\" + weather_api_key + \"&q=\" + city\n",
    "query_url = f\"{url}appid={weather_api_key}&units=imperial&q=\"\n",
    "print(query_url)"
   ]
  },
  {
   "cell_type": "code",
   "execution_count": 4,
   "metadata": {},
   "outputs": [],
   "source": [
    "#get weather data\n",
    "#we turn it into a json format\n",
    "weather_response = requests.get(query_url)\n",
    "weather_json = weather_response.json()"
   ]
  },
  {
   "cell_type": "code",
   "execution_count": 8,
   "metadata": {},
   "outputs": [
    {
     "name": "stdout",
     "output_type": "stream",
     "text": [
      "Beginning Data Retrieval\n",
      "-------------------------\n",
      "Processing Record 1 | albany\n",
      "Processing Record 2 | khatanga\n",
      "Processing Record 3 | port elizabeth\n",
      "Processing Record 4 | carnarvon\n",
      "Processing Record 5 | busselton\n",
      "Processing Record 6 | saskylakh\n",
      "Processing Record 7 | arraial do cabo\n",
      "Processing Record 8 | sinkat\n",
      "City not found\n",
      "Processing Record 9 | bengkulu\n",
      "Processing Record 10 | ponta do sol\n",
      "Processing Record 11 | punta arenas\n",
      "Processing Record 12 | vaini\n",
      "Processing Record 13 | lebu\n",
      "Processing Record 14 | rikitea\n",
      "Processing Record 15 | vidim\n",
      "Processing Record 16 | ilihan\n",
      "Processing Record 17 | mar del plata\n",
      "Processing Record 18 | katherine\n",
      "Processing Record 19 | atuona\n",
      "Processing Record 20 | ushuaia\n",
      "Processing Record 21 | saint-pierre\n",
      "Processing Record 22 | quelimane\n",
      "Processing Record 23 | hobart\n",
      "Processing Record 24 | oussouye\n",
      "Processing Record 25 | barrow\n",
      "Processing Record 26 | vanimo\n",
      "Processing Record 27 | karpathos\n",
      "Processing Record 28 | dombarovskiy\n",
      "Processing Record 29 | mataura\n",
      "Processing Record 30 | mehamn\n",
      "Processing Record 31 | vila franca do campo\n",
      "Processing Record 32 | pevek\n",
      "Processing Record 33 | pauini\n",
      "Processing Record 34 | didi lilo\n",
      "Processing Record 35 | beloha\n",
      "Processing Record 36 | amderma\n",
      "City not found\n",
      "Processing Record 37 | walvis bay\n",
      "Processing Record 38 | kavaratti\n",
      "Processing Record 39 | kargasok\n",
      "Processing Record 40 | esperance\n",
      "Processing Record 41 | haibowan\n",
      "City not found\n",
      "Processing Record 42 | tazovskiy\n",
      "Processing Record 43 | tsihombe\n",
      "City not found\n",
      "Processing Record 44 | tasiilaq\n",
      "Processing Record 45 | teguldet\n",
      "Processing Record 46 | butaritari\n",
      "Processing Record 47 | rawannawi\n",
      "City not found\n",
      "Processing Record 48 | san juan\n",
      "Processing Record 49 | nanortalik\n",
      "Processing Record 50 | illoqqortoormiut\n",
      "City not found\n",
      "Processing Record 51 | ilulissat\n",
      "Processing Record 52 | port pirie\n",
      "Processing Record 53 | port hardy\n",
      "Processing Record 54 | hays\n",
      "Processing Record 55 | jamestown\n",
      "Processing Record 56 | moose factory\n",
      "Processing Record 57 | mys shmidta\n",
      "City not found\n",
      "Processing Record 58 | taolanaro\n",
      "City not found\n",
      "Processing Record 59 | kavieng\n",
      "Processing Record 60 | nikolskoye\n",
      "Processing Record 61 | whitehorse\n",
      "Processing Record 62 | grand river south east\n",
      "City not found\n",
      "Processing Record 63 | saint george\n",
      "Processing Record 64 | charlestown\n",
      "Processing Record 65 | cherskiy\n",
      "Processing Record 66 | puerto ayora\n",
      "Processing Record 67 | qaanaaq\n",
      "Processing Record 68 | hasaki\n",
      "Processing Record 69 | belushya guba\n",
      "City not found\n",
      "Processing Record 70 | rayong\n",
      "Processing Record 71 | teluk nibung\n",
      "Processing Record 72 | sentyabrskiy\n",
      "City not found\n",
      "Processing Record 73 | norman wells\n",
      "Processing Record 74 | mount gambier\n",
      "Processing Record 75 | bethel\n",
      "Processing Record 76 | coihaique\n",
      "Processing Record 77 | banda aceh\n",
      "Processing Record 78 | vardo\n",
      "Processing Record 79 | oranjemund\n",
      "Processing Record 80 | hermanus\n",
      "Processing Record 81 | katsuura\n",
      "Processing Record 82 | coos bay\n",
      "Processing Record 83 | hithadhoo\n",
      "Processing Record 84 | la ronge\n",
      "Processing Record 85 | tuatapere\n",
      "Processing Record 86 | biak\n",
      "Processing Record 87 | ambon\n",
      "Processing Record 88 | mrirt\n",
      "City not found\n",
      "Processing Record 89 | samusu\n",
      "City not found\n",
      "Processing Record 90 | palabuhanratu\n",
      "City not found\n",
      "Processing Record 91 | lere\n",
      "Processing Record 92 | guicheng\n",
      "City not found\n",
      "Processing Record 93 | bluff\n",
      "Processing Record 94 | port lincoln\n",
      "Processing Record 95 | aden\n",
      "Processing Record 96 | east london\n",
      "Processing Record 97 | pitimbu\n",
      "Processing Record 98 | yuzhno-yeniseyskiy\n",
      "City not found\n",
      "Processing Record 99 | lukovetskiy\n",
      "Processing Record 100 | cape town\n",
      "Processing Record 101 | tibiao\n",
      "Processing Record 102 | longyearbyen\n",
      "Processing Record 103 | ribeira grande\n",
      "Processing Record 104 | severo-kurilsk\n",
      "Processing Record 105 | butembo\n",
      "Processing Record 106 | torbay\n",
      "Processing Record 107 | isakly\n",
      "Processing Record 108 | hilo\n",
      "Processing Record 109 | hamilton\n",
      "Processing Record 110 | willmar\n",
      "Processing Record 111 | tabuk\n",
      "Processing Record 112 | sistranda\n",
      "Processing Record 113 | buarcos\n",
      "Processing Record 114 | pangnirtung\n",
      "Processing Record 115 | lavrentiya\n",
      "Processing Record 116 | bowen\n",
      "Processing Record 117 | bangad\n",
      "Processing Record 118 | kysyl-syr\n",
      "Processing Record 119 | lorengau\n",
      "Processing Record 120 | ahipara\n",
      "Processing Record 121 | kapaa\n",
      "Processing Record 122 | uwayl\n",
      "City not found\n",
      "Processing Record 123 | gizo\n",
      "Processing Record 124 | saint-georges\n",
      "Processing Record 125 | limerick\n",
      "Processing Record 126 | gobabis\n",
      "Processing Record 127 | kjollefjord\n",
      "Processing Record 128 | mahebourg\n",
      "Processing Record 129 | inhambane\n",
      "Processing Record 130 | lagoa\n",
      "Processing Record 131 | cayenne\n",
      "Processing Record 132 | sitka\n",
      "Processing Record 133 | saint-philippe\n",
      "Processing Record 134 | khani\n",
      "Processing Record 135 | stokmarknes\n",
      "Processing Record 136 | tuktoyaktuk\n",
      "Processing Record 137 | tabas\n",
      "Processing Record 138 | saldanha\n",
      "Processing Record 139 | ostrovnoy\n",
      "Processing Record 140 | bababe\n",
      "City not found\n",
      "Processing Record 141 | bambous virieux\n",
      "Processing Record 142 | nago\n",
      "Processing Record 143 | cassilandia\n",
      "Processing Record 144 | anar darreh\n",
      "City not found\n",
      "Processing Record 145 | taoudenni\n",
      "Processing Record 146 | isangel\n",
      "Processing Record 147 | nhulunbuy\n",
      "Processing Record 148 | bathsheba\n",
      "Processing Record 149 | georgetown\n",
      "Processing Record 150 | konstantinovka\n",
      "Processing Record 151 | fortuna\n",
      "Processing Record 152 | athabasca\n",
      "Processing Record 153 | marcona\n",
      "City not found\n",
      "Processing Record 154 | ornskoldsvik\n",
      "Processing Record 155 | inderborskiy\n",
      "City not found\n",
      "Processing Record 156 | katha\n",
      "City not found\n",
      "Processing Record 157 | ruidoso\n",
      "Processing Record 158 | calatayud\n",
      "Processing Record 159 | conceicao do araguaia\n",
      "Processing Record 160 | castro\n",
      "Processing Record 161 | santa cruz de tenerife\n",
      "Processing Record 162 | ambilobe\n",
      "Processing Record 163 | saleaula\n",
      "City not found\n",
      "Processing Record 164 | atar\n",
      "Processing Record 165 | klaksvik\n",
      "Processing Record 166 | mahajanga\n",
      "Processing Record 167 | zhezkazgan\n",
      "Processing Record 168 | dostpur\n",
      "Processing Record 169 | upernavik\n",
      "Processing Record 170 | olafsvik\n",
      "Processing Record 171 | crawfordsville\n",
      "Processing Record 172 | ormara\n",
      "Processing Record 173 | korcula\n",
      "Processing Record 174 | chauk\n",
      "Processing Record 175 | yangambi\n",
      "Processing Record 176 | rovaniemi\n",
      "Processing Record 177 | kaitangata\n",
      "Processing Record 178 | aklavik\n",
      "Processing Record 179 | shizukuishi\n",
      "Processing Record 180 | new norfolk\n",
      "Processing Record 181 | kloulklubed\n",
      "Processing Record 182 | defiance\n",
      "Processing Record 183 | port alfred\n",
      "Processing Record 184 | barentsburg\n",
      "City not found\n",
      "Processing Record 185 | jibuti\n",
      "Processing Record 186 | grand gaube\n",
      "Processing Record 187 | vaitupu\n",
      "City not found\n",
      "Processing Record 188 | bad hofgastein\n",
      "Processing Record 189 | toucheng\n",
      "Processing Record 190 | salamanca\n",
      "Processing Record 191 | tual\n",
      "Processing Record 192 | bartlesville\n",
      "Processing Record 193 | tomatlan\n",
      "Processing Record 194 | mogadishu\n",
      "Processing Record 195 | juegang\n",
      "Processing Record 196 | san cristobal\n",
      "Processing Record 197 | ponta delgada\n",
      "Processing Record 198 | batemans bay\n",
      "Processing Record 199 | marzuq\n",
      "Processing Record 200 | port blair\n",
      "Processing Record 201 | salzwedel\n",
      "Processing Record 202 | hami\n",
      "Processing Record 203 | sisimiut\n",
      "Processing Record 204 | petropavlovsk-kamchatskiy\n",
      "Processing Record 205 | coquimbo\n",
      "Processing Record 206 | camabatela\n",
      "Processing Record 207 | dicabisagan\n",
      "Processing Record 208 | louisbourg\n",
      "City not found\n",
      "Processing Record 209 | qaqortoq\n",
      "Processing Record 210 | korla\n",
      "Processing Record 211 | bredasdorp\n",
      "Processing Record 212 | khonuu\n",
      "City not found\n",
      "Processing Record 213 | areosa\n",
      "Processing Record 214 | avarua\n",
      "Processing Record 215 | jimma\n",
      "Processing Record 216 | sucha beskidzka\n",
      "Processing Record 217 | araguacu\n",
      "Processing Record 218 | paso de carrasco\n",
      "Processing Record 219 | kindu\n",
      "Processing Record 220 | yellowknife\n",
      "Processing Record 221 | awbari\n",
      "Processing Record 222 | lompoc\n",
      "Processing Record 223 | acapulco\n",
      "Processing Record 224 | bilibino\n",
      "Processing Record 225 | riyadh\n",
      "Processing Record 226 | lavumisa\n",
      "Processing Record 227 | richards bay\n",
      "Processing Record 228 | cidreira\n",
      "Processing Record 229 | cuite\n",
      "Processing Record 230 | shimoda\n",
      "Processing Record 231 | mana\n",
      "Processing Record 232 | tessalit\n"
     ]
    },
    {
     "name": "stdout",
     "output_type": "stream",
     "text": [
      "Processing Record 233 | hambantota\n",
      "Processing Record 234 | palmer\n",
      "Processing Record 235 | turukhansk\n",
      "Processing Record 236 | taltal\n",
      "Processing Record 237 | broome\n",
      "Processing Record 238 | segou\n",
      "Processing Record 239 | kurilsk\n",
      "Processing Record 240 | murray bridge\n",
      "Processing Record 241 | chesterfield\n",
      "Processing Record 242 | rongcheng\n",
      "Processing Record 243 | codrington\n",
      "Processing Record 244 | gussago\n",
      "Processing Record 245 | denpasar\n",
      "Processing Record 246 | anloga\n",
      "Processing Record 247 | xuddur\n",
      "Processing Record 248 | provideniya\n",
      "Processing Record 249 | fremont\n",
      "Processing Record 250 | rosetown\n",
      "Processing Record 251 | addi ugri\n",
      "City not found\n",
      "Processing Record 252 | nishihara\n",
      "Processing Record 253 | dikson\n",
      "Processing Record 254 | cockburn town\n",
      "Processing Record 255 | opuwo\n",
      "Processing Record 256 | luwuk\n",
      "Processing Record 257 | emerald\n",
      "Processing Record 258 | santa maria\n",
      "Processing Record 259 | lahad datu\n",
      "Processing Record 260 | ziro\n",
      "Processing Record 261 | chapleau\n",
      "Processing Record 262 | ancud\n",
      "Processing Record 263 | wattegama\n",
      "Processing Record 264 | salalah\n",
      "Processing Record 265 | clarence town\n",
      "Processing Record 266 | villazon\n",
      "Processing Record 267 | prieska\n",
      "Processing Record 268 | bur gabo\n",
      "City not found\n",
      "Processing Record 269 | college\n",
      "Processing Record 270 | jieshi\n",
      "Processing Record 271 | balkanabat\n",
      "Processing Record 272 | halifax\n",
      "Processing Record 273 | liuzhou\n",
      "Processing Record 274 | ouadda\n",
      "Processing Record 275 | vestmannaeyjar\n",
      "Processing Record 276 | quatre cocos\n",
      "Processing Record 277 | bilma\n",
      "Processing Record 278 | stege\n",
      "Processing Record 279 | mikun\n",
      "Processing Record 280 | srednekolymsk\n",
      "Processing Record 281 | reserva\n",
      "Processing Record 282 | omboue\n",
      "Processing Record 283 | narsaq\n",
      "Processing Record 284 | margate\n",
      "Processing Record 285 | matay\n",
      "Processing Record 286 | muskogee\n",
      "Processing Record 287 | waling\n",
      "Processing Record 288 | yura\n",
      "Processing Record 289 | buala\n",
      "Processing Record 290 | beringovskiy\n",
      "Processing Record 291 | shanhetun\n",
      "Processing Record 292 | necochea\n",
      "Processing Record 293 | bolungarvik\n",
      "City not found\n",
      "Processing Record 294 | iqaluit\n",
      "Processing Record 295 | half moon bay\n",
      "Processing Record 296 | okhotsk\n",
      "Processing Record 297 | san andres\n",
      "Processing Record 298 | ishigaki\n",
      "Processing Record 299 | nchelenge\n",
      "Processing Record 300 | thompson\n",
      "Processing Record 301 | kahta\n",
      "Processing Record 302 | tokur\n",
      "Processing Record 303 | mazagao\n",
      "Processing Record 304 | kodiak\n",
      "Processing Record 305 | port macquarie\n",
      "Processing Record 306 | petatlan\n",
      "Processing Record 307 | porosozero\n",
      "Processing Record 308 | ithaca\n",
      "Processing Record 309 | charters towers\n",
      "Processing Record 310 | talnakh\n",
      "Processing Record 311 | westport\n",
      "Processing Record 312 | zhaotong\n",
      "Processing Record 313 | aykhal\n",
      "Processing Record 314 | uvalde\n",
      "Processing Record 315 | jinchang\n",
      "Processing Record 316 | igarka\n",
      "Processing Record 317 | kajaani\n",
      "Processing Record 318 | rengo\n",
      "Processing Record 319 | loreto\n",
      "Processing Record 320 | haapiti\n",
      "Processing Record 321 | lojt kirkeby\n",
      "Processing Record 322 | mecca\n",
      "Processing Record 323 | mentok\n",
      "City not found\n",
      "Processing Record 324 | chicama\n",
      "Processing Record 325 | vera cruz\n",
      "Processing Record 326 | kuche\n",
      "City not found\n",
      "Processing Record 327 | atsiki\n",
      "City not found\n",
      "Processing Record 328 | faanui\n",
      "Processing Record 329 | laguna\n",
      "Processing Record 330 | cabo san lucas\n",
      "Processing Record 331 | hofn\n",
      "Processing Record 332 | broken hill\n",
      "Processing Record 333 | hasanabad\n",
      "Processing Record 334 | airai\n",
      "Processing Record 335 | pochutla\n",
      "Processing Record 336 | luderitz\n",
      "Processing Record 337 | seymchan\n",
      "Processing Record 338 | hobyo\n",
      "Processing Record 339 | deniliquin\n",
      "Processing Record 340 | alofi\n",
      "Processing Record 341 | souillac\n",
      "Processing Record 342 | victoria\n",
      "Processing Record 343 | yerbogachen\n",
      "Processing Record 344 | bonthe\n",
      "Processing Record 345 | santa barbara\n",
      "Processing Record 346 | mutis\n",
      "Processing Record 347 | nome\n",
      "Processing Record 348 | attawapiskat\n",
      "City not found\n",
      "Processing Record 349 | bubaque\n",
      "Processing Record 350 | catia la mar\n",
      "Processing Record 351 | rio grande\n",
      "Processing Record 352 | havre-saint-pierre\n",
      "Processing Record 353 | kemijarvi\n",
      "Processing Record 354 | atambua\n",
      "Processing Record 355 | kimbe\n",
      "Processing Record 356 | campo verde\n",
      "Processing Record 357 | matara\n",
      "Processing Record 358 | cantaura\n",
      "Processing Record 359 | rocha\n",
      "Processing Record 360 | tamandare\n",
      "Processing Record 361 | changji\n",
      "Processing Record 362 | torata\n",
      "Processing Record 363 | suez\n",
      "Processing Record 364 | huarmey\n",
      "Processing Record 365 | nanning\n",
      "Processing Record 366 | imeni telmana\n",
      "City not found\n",
      "Processing Record 367 | teseney\n",
      "Processing Record 368 | haines junction\n",
      "Processing Record 369 | zhuanghe\n",
      "Processing Record 370 | vanino\n",
      "Processing Record 371 | urcos\n",
      "Processing Record 372 | nizhneyansk\n",
      "City not found\n",
      "Processing Record 373 | cap malheureux\n",
      "Processing Record 374 | shaunavon\n",
      "Processing Record 375 | scottsbluff\n",
      "Processing Record 376 | udachnyy\n",
      "Processing Record 377 | sorland\n",
      "Processing Record 378 | west plains\n",
      "Processing Record 379 | wanning\n",
      "Processing Record 380 | yichang\n",
      "Processing Record 381 | kroonstad\n",
      "Processing Record 382 | touros\n",
      "Processing Record 383 | moranbah\n",
      "Processing Record 384 | general roca\n",
      "Processing Record 385 | portland\n",
      "Processing Record 386 | ajdabiya\n",
      "Processing Record 387 | dossor\n",
      "Processing Record 388 | rawah\n",
      "Processing Record 389 | bairiki\n",
      "Processing Record 390 | kisangani\n",
      "Processing Record 391 | seryshevo\n",
      "Processing Record 392 | kodinsk\n",
      "Processing Record 393 | inta\n",
      "Processing Record 394 | mahanje\n",
      "Processing Record 395 | te anau\n",
      "Processing Record 396 | nueva loja\n",
      "Processing Record 397 | nemuro\n",
      "Processing Record 398 | tiksi\n",
      "Processing Record 399 | skibbereen\n",
      "Processing Record 400 | oktyabrskiy\n",
      "Processing Record 401 | baghdad\n",
      "Processing Record 402 | flinders\n",
      "Processing Record 403 | kautokeino\n",
      "Processing Record 404 | arlit\n",
      "Processing Record 405 | zarate\n",
      "Processing Record 406 | rawson\n",
      "Processing Record 407 | bandarbeyla\n",
      "Processing Record 408 | mayo\n",
      "Processing Record 409 | salgado\n",
      "Processing Record 410 | vanavara\n",
      "Processing Record 411 | golyshmanovo\n",
      "Processing Record 412 | saint-joseph\n",
      "Processing Record 413 | yarim\n",
      "Processing Record 414 | samarai\n",
      "Processing Record 415 | husavik\n",
      "Processing Record 416 | anaimalai\n",
      "Processing Record 417 | antalaha\n",
      "Processing Record 418 | kenitra\n",
      "Processing Record 419 | doraha\n",
      "Processing Record 420 | sechura\n",
      "Processing Record 421 | hokitika\n",
      "Processing Record 422 | namibe\n",
      "Processing Record 423 | karwar\n",
      "Processing Record 424 | dodoma\n",
      "Processing Record 425 | aksu\n",
      "Processing Record 426 | tarata\n",
      "Processing Record 427 | bijar\n",
      "Processing Record 428 | gushikawa\n",
      "Processing Record 429 | karratha\n",
      "Processing Record 430 | mutsu\n",
      "Processing Record 431 | letlhakane\n",
      "Processing Record 432 | gallup\n",
      "Processing Record 433 | rundu\n",
      "Processing Record 434 | krasnoselkup\n",
      "Processing Record 435 | sept-iles\n",
      "Processing Record 436 | gurgan\n",
      "City not found\n",
      "Processing Record 437 | viedma\n",
      "Processing Record 438 | maumere\n",
      "Processing Record 439 | mega\n",
      "Processing Record 440 | fortuna foothills\n",
      "Processing Record 441 | galiwinku\n",
      "City not found\n",
      "Processing Record 442 | chokurdakh\n",
      "Processing Record 443 | zolotinka\n",
      "City not found\n",
      "Processing Record 444 | huanan\n",
      "Processing Record 445 | pamanukan\n",
      "Processing Record 446 | montivilliers\n",
      "Processing Record 447 | manzanillo\n",
      "Processing Record 448 | tooele\n",
      "Processing Record 449 | avera\n",
      "Processing Record 450 | vao\n",
      "Processing Record 451 | belyy yar\n",
      "Processing Record 452 | port augusta\n",
      "Processing Record 453 | kayes\n",
      "Processing Record 454 | komatipoort\n",
      "Processing Record 455 | darhan\n",
      "Processing Record 456 | drovyanaya\n",
      "Processing Record 457 | laurel\n",
      "Processing Record 458 | najran\n",
      "Processing Record 459 | nibbar\n",
      "Processing Record 460 | bagru\n",
      "Processing Record 461 | wilmington\n",
      "Processing Record 462 | faya\n",
      "Processing Record 463 | ambodifototra\n",
      "City not found\n",
      "Processing Record 464 | vostok\n",
      "Processing Record 465 | santa lucia\n",
      "Processing Record 466 | boyolangu\n",
      "Processing Record 467 | mahibadhoo\n",
      "Processing Record 468 | ribeirao bonito\n",
      "Processing Record 469 | santona\n",
      "Processing Record 470 | oktyabrskoye\n",
      "Processing Record 471 | caninde\n",
      "Processing Record 472 | valdivia\n",
      "Processing Record 473 | standerton\n",
      "Processing Record 474 | burkburnett\n",
      "Processing Record 475 | saint anthony\n"
     ]
    },
    {
     "name": "stdout",
     "output_type": "stream",
     "text": [
      "Processing Record 476 | sataua\n",
      "City not found\n",
      "Processing Record 477 | sao filipe\n",
      "Processing Record 478 | svetlaya\n",
      "Processing Record 479 | butterworth\n",
      "Processing Record 480 | clyde river\n",
      "Processing Record 481 | tigil\n",
      "Processing Record 482 | lubao\n",
      "Processing Record 483 | napier\n",
      "Processing Record 484 | harper\n",
      "Processing Record 485 | taveta\n",
      "Processing Record 486 | killybegs\n",
      "Processing Record 487 | lufilufi\n",
      "Processing Record 488 | bom jardim\n",
      "Processing Record 489 | pisco\n",
      "Processing Record 490 | verkhnetulomskiy\n",
      "Processing Record 491 | camacha\n",
      "Processing Record 492 | alice springs\n",
      "Processing Record 493 | sola\n",
      "Processing Record 494 | baruun-urt\n",
      "Processing Record 495 | ulagan\n",
      "Processing Record 496 | barhi\n",
      "Processing Record 497 | quthing\n",
      "Processing Record 498 | monrovia\n",
      "Processing Record 499 | bargal\n",
      "City not found\n",
      "Processing Record 500 | groningen\n",
      "Processing Record 501 | goure\n",
      "Processing Record 502 | ust-kuyga\n",
      "Processing Record 503 | tefe\n",
      "Processing Record 504 | hualmay\n",
      "Processing Record 505 | erenhot\n",
      "Processing Record 506 | praya\n",
      "Processing Record 507 | khasan\n",
      "Processing Record 508 | ahuimanu\n",
      "Processing Record 509 | comodoro rivadavia\n",
      "Processing Record 510 | goderich\n",
      "Processing Record 511 | madanapalle\n",
      "Processing Record 512 | itupiranga\n",
      "Processing Record 513 | brasileia\n",
      "Processing Record 514 | wamba\n",
      "Processing Record 515 | parker\n",
      "Processing Record 516 | sayyan\n",
      "Processing Record 517 | hailar\n",
      "Processing Record 518 | sambava\n",
      "Processing Record 519 | abha\n",
      "Processing Record 520 | yar-sale\n",
      "Processing Record 521 | namatanai\n",
      "Processing Record 522 | paamiut\n",
      "Processing Record 523 | isiro\n",
      "Processing Record 524 | hirna\n",
      "Processing Record 525 | kruisfontein\n",
      "Processing Record 526 | itoman\n",
      "Processing Record 527 | jericho\n",
      "Processing Record 528 | havelock\n",
      "Processing Record 529 | bayir\n",
      "Processing Record 530 | san patricio\n",
      "Processing Record 531 | kahului\n",
      "Processing Record 532 | cairns\n",
      "Processing Record 533 | uramita\n",
      "Processing Record 534 | domna\n",
      "Processing Record 535 | yeehaw junction\n",
      "City not found\n",
      "Processing Record 536 | wajima\n",
      "Processing Record 537 | tupik\n",
      "Processing Record 538 | babanusah\n",
      "City not found\n",
      "Processing Record 539 | san\n",
      "Processing Record 540 | dunedin\n",
      "Processing Record 541 | lubango\n",
      "Processing Record 542 | makakilo city\n",
      "Processing Record 543 | zhanatas\n",
      "City not found\n",
      "Processing Record 544 | kenora\n",
      "Processing Record 545 | ngukurr\n",
      "City not found\n",
      "Processing Record 546 | igarape-acu\n",
      "City not found\n",
      "Processing Record 547 | huron\n",
      "Processing Record 548 | tiznit\n",
      "Processing Record 549 | benguela\n",
      "Processing Record 550 | evanston\n",
      "Processing Record 551 | susurluk\n",
      "Processing Record 552 | storforshei\n",
      "Processing Record 553 | mildura\n",
      "Processing Record 554 | pailon\n",
      "Processing Record 555 | hammerfest\n",
      "Processing Record 556 | toulepleu\n",
      "City not found\n",
      "Processing Record 557 | roald\n",
      "Processing Record 558 | concepcion\n",
      "Processing Record 559 | fayaoue\n",
      "Processing Record 560 | puerto tejada\n",
      "Processing Record 561 | holme\n",
      "Processing Record 562 | saint-francois\n",
      "Processing Record 563 | moorhead\n",
      "Processing Record 564 | kaseda\n",
      "Processing Record 565 | kharp\n",
      "Processing Record 566 | shingu\n",
      "Processing Record 567 | victor harbor\n",
      "Processing Record 568 | lariano\n",
      "Processing Record 569 | miri\n",
      "Processing Record 570 | raga\n",
      "Processing Record 571 | ipora\n",
      "Processing Record 572 | ranong\n",
      "Processing Record 573 | dingle\n",
      "Processing Record 574 | viligili\n",
      "City not found\n",
      "Processing Record 575 | nenjiang\n",
      "Processing Record 576 | siuna\n",
      "Processing Record 577 | henties bay\n",
      "Processing Record 578 | bukama\n",
      "Processing Record 579 | waipawa\n",
      "Processing Record 580 | gilbues\n",
      "Processing Record 581 | misratah\n",
      "Processing Record 582 | kuandian\n",
      "Processing Record 583 | yibin\n",
      "Processing Record 584 | chernyshevsk\n",
      "Processing Record 585 | praia\n",
      "Processing Record 586 | katobu\n",
      "Processing Record 587 | wheatley\n",
      "Processing Record 588 | labuhan\n",
      "Processing Record 589 | pueblo nuevo\n",
      "Processing Record 590 | zharkent\n",
      "Processing Record 591 | ilebo\n",
      "Processing Record 592 | ardakan\n",
      "Processing Record 593 | sajanan\n",
      "Processing Record 594 | garden city\n",
      "Processing Record 595 | boundiali\n",
      "Processing Record 596 | dudinka\n",
      "Processing Record 597 | mateare\n",
      "Processing Record 598 | sugod\n",
      "Processing Record 599 | arroyo\n",
      "Processing Record 600 | palu\n",
      "Processing Record 601 | poum\n",
      "Processing Record 602 | les cayes\n",
      "Processing Record 603 | boa vista\n",
      "Processing Record 604 | novo aripuana\n",
      "Processing Record 605 | oriximina\n",
      "Processing Record 606 | evensk\n",
      "Processing Record 607 | ghotki\n",
      "Processing Record 608 | mandan\n",
      "Processing Record 609 | tautira\n",
      "Processing Record 610 | colquechaca\n",
      "Processing Record 611 | tumannyy\n",
      "City not found\n",
      "Processing Record 612 | abu dhabi\n",
      "Processing Record 613 | vanersborg\n",
      "Processing Record 614 | bakel\n",
      "Processing Record 615 | vilhena\n"
     ]
    }
   ],
   "source": [
    "# counter = 1 #can be used for the cities, \n",
    "# for i in range(len(cities)):\n",
    "#     query_url = url + \"appid=\" + weather_api_key + \"&q=\" + cities[i] + '&units=imperial' # Build query URL, imperial units\n",
    "#     weather_response = requests.get(query_url)\n",
    "#     weather_json = weather_response.json()\n",
    "    \n",
    "#     #if weather_response['cod'] != '404': #to eliminate city names that aren't found with Citipy\n",
    "#     print('City Number: ' + str(counter) + ' | City Name: ' + weather_json.get('name'))\n",
    "#     print('Requested URL: ' + str(query_url))\n",
    "#     print('-----------------------------------')\n",
    "#     counter += 1\n",
    "#     weather_response['city'][weather_response['city'].index[i]] = weather_json.get('name')\n",
    "\n",
    "#create a for loop that will through request made\n",
    "#append the values trying to retrived from said list\n",
    "\n",
    "#creating empty lists for every item in our query \n",
    "city_name = []\n",
    "latitude = []\n",
    "longitude = []\n",
    "temperature = []\n",
    "humidity = []\n",
    "cloudiness = []\n",
    "wind_speed = [] \n",
    "country = []\n",
    "\n",
    "x = 0\n",
    "\n",
    "print('Beginning Data Retrieval')\n",
    "print(\"-\"*25)\n",
    "for i in cities:\n",
    "    try:\n",
    "        weather_response = requests.get(query_url + i).json() #each city that is in my cities list\n",
    "        x = x + 1\n",
    "        print(f'Processing Record {x} | {i}')\n",
    "        city_name.append(weather_response[\"name\"])\n",
    "        latitude.append(weather_response[\"coord\"][\"lat\"])\n",
    "        longitude.append(weather_response[\"coord\"][\"lon\"])\n",
    "        temperature.append(weather_response[\"main\"][\"temp_max\"])\n",
    "        humidity.append(weather_response[\"main\"][\"humidity\"])\n",
    "        cloudiness.append(weather_response[\"clouds\"][\"all\"])\n",
    "        wind_speed.append(weather_response[\"wind\"][\"speed\"])\n",
    "        country.append(weather_response[\"sys\"][\"country\"])\n",
    "    except KeyError:\n",
    "        print(\"City not found\")\n",
    "    "
   ]
  },
  {
   "cell_type": "code",
   "execution_count": 10,
   "metadata": {
    "scrolled": true
   },
   "outputs": [],
   "source": [
    "# retrieved_items = pd.DataFrame({\n",
    "#     \"City\": city_name,\n",
    "#     \"Lat\": latitude,\n",
    "#     \"Lng\": longitude,\n",
    "#     \"Max Temp\" : temperature,\n",
    "#     \"Humidity\" : humidity,\n",
    "#     \"Cloudiness\" : cloudiness,\n",
    "#     \"Wind Speed (mph)\": wind_speed,\n",
    "#     \"Country\": country\n",
    "# })\n",
    "# retrieved_items.head()"
   ]
  },
  {
   "cell_type": "markdown",
   "metadata": {},
   "source": [
    "### Convert Raw Data to DataFrame\n",
    "* Export the city data into a .csv.\n",
    "* Display the DataFrame"
   ]
  },
  {
   "cell_type": "code",
   "execution_count": 21,
   "metadata": {},
   "outputs": [
    {
     "data": {
      "text/html": [
       "<div>\n",
       "<style scoped>\n",
       "    .dataframe tbody tr th:only-of-type {\n",
       "        vertical-align: middle;\n",
       "    }\n",
       "\n",
       "    .dataframe tbody tr th {\n",
       "        vertical-align: top;\n",
       "    }\n",
       "\n",
       "    .dataframe thead th {\n",
       "        text-align: right;\n",
       "    }\n",
       "</style>\n",
       "<table border=\"1\" class=\"dataframe\">\n",
       "  <thead>\n",
       "    <tr style=\"text-align: right;\">\n",
       "      <th></th>\n",
       "      <th>City</th>\n",
       "      <th>Lat</th>\n",
       "      <th>Lng</th>\n",
       "      <th>Max Temp</th>\n",
       "      <th>Humidity</th>\n",
       "      <th>Cloudiness</th>\n",
       "      <th>Wind Speed (mph)</th>\n",
       "      <th>Country</th>\n",
       "    </tr>\n",
       "  </thead>\n",
       "  <tbody>\n",
       "    <tr>\n",
       "      <th>0</th>\n",
       "      <td>Albany</td>\n",
       "      <td>42.60</td>\n",
       "      <td>-73.97</td>\n",
       "      <td>37.99</td>\n",
       "      <td>75</td>\n",
       "      <td>100</td>\n",
       "      <td>7.38</td>\n",
       "      <td>US</td>\n",
       "    </tr>\n",
       "    <tr>\n",
       "      <th>1</th>\n",
       "      <td>Khatanga</td>\n",
       "      <td>71.97</td>\n",
       "      <td>102.50</td>\n",
       "      <td>14.18</td>\n",
       "      <td>96</td>\n",
       "      <td>100</td>\n",
       "      <td>20.54</td>\n",
       "      <td>RU</td>\n",
       "    </tr>\n",
       "    <tr>\n",
       "      <th>2</th>\n",
       "      <td>Port Elizabeth</td>\n",
       "      <td>-33.92</td>\n",
       "      <td>25.57</td>\n",
       "      <td>60.80</td>\n",
       "      <td>100</td>\n",
       "      <td>100</td>\n",
       "      <td>4.70</td>\n",
       "      <td>ZA</td>\n",
       "    </tr>\n",
       "    <tr>\n",
       "      <th>3</th>\n",
       "      <td>Carnarvon</td>\n",
       "      <td>-24.87</td>\n",
       "      <td>113.63</td>\n",
       "      <td>71.60</td>\n",
       "      <td>83</td>\n",
       "      <td>0</td>\n",
       "      <td>11.41</td>\n",
       "      <td>AU</td>\n",
       "    </tr>\n",
       "    <tr>\n",
       "      <th>4</th>\n",
       "      <td>Busselton</td>\n",
       "      <td>-33.65</td>\n",
       "      <td>115.33</td>\n",
       "      <td>64.00</td>\n",
       "      <td>67</td>\n",
       "      <td>0</td>\n",
       "      <td>7.81</td>\n",
       "      <td>AU</td>\n",
       "    </tr>\n",
       "    <tr>\n",
       "      <th>5</th>\n",
       "      <td>Saskylakh</td>\n",
       "      <td>71.92</td>\n",
       "      <td>114.08</td>\n",
       "      <td>6.91</td>\n",
       "      <td>92</td>\n",
       "      <td>47</td>\n",
       "      <td>14.41</td>\n",
       "      <td>RU</td>\n",
       "    </tr>\n",
       "    <tr>\n",
       "      <th>6</th>\n",
       "      <td>Arraial do Cabo</td>\n",
       "      <td>-22.97</td>\n",
       "      <td>-42.03</td>\n",
       "      <td>75.20</td>\n",
       "      <td>73</td>\n",
       "      <td>75</td>\n",
       "      <td>13.87</td>\n",
       "      <td>BR</td>\n",
       "    </tr>\n",
       "    <tr>\n",
       "      <th>7</th>\n",
       "      <td>Bengkulu</td>\n",
       "      <td>-3.80</td>\n",
       "      <td>102.27</td>\n",
       "      <td>74.34</td>\n",
       "      <td>95</td>\n",
       "      <td>100</td>\n",
       "      <td>3.33</td>\n",
       "      <td>ID</td>\n",
       "    </tr>\n",
       "    <tr>\n",
       "      <th>8</th>\n",
       "      <td>Ponta do Sol</td>\n",
       "      <td>32.67</td>\n",
       "      <td>-17.10</td>\n",
       "      <td>66.20</td>\n",
       "      <td>77</td>\n",
       "      <td>20</td>\n",
       "      <td>9.17</td>\n",
       "      <td>PT</td>\n",
       "    </tr>\n",
       "    <tr>\n",
       "      <th>9</th>\n",
       "      <td>Punta Arenas</td>\n",
       "      <td>-53.15</td>\n",
       "      <td>-70.92</td>\n",
       "      <td>53.60</td>\n",
       "      <td>54</td>\n",
       "      <td>75</td>\n",
       "      <td>19.46</td>\n",
       "      <td>CL</td>\n",
       "    </tr>\n",
       "  </tbody>\n",
       "</table>\n",
       "</div>"
      ],
      "text/plain": [
       "              City    Lat     Lng  Max Temp  Humidity  Cloudiness  \\\n",
       "0           Albany  42.60  -73.97     37.99        75         100   \n",
       "1         Khatanga  71.97  102.50     14.18        96         100   \n",
       "2   Port Elizabeth -33.92   25.57     60.80       100         100   \n",
       "3        Carnarvon -24.87  113.63     71.60        83           0   \n",
       "4        Busselton -33.65  115.33     64.00        67           0   \n",
       "5        Saskylakh  71.92  114.08      6.91        92          47   \n",
       "6  Arraial do Cabo -22.97  -42.03     75.20        73          75   \n",
       "7         Bengkulu  -3.80  102.27     74.34        95         100   \n",
       "8     Ponta do Sol  32.67  -17.10     66.20        77          20   \n",
       "9     Punta Arenas -53.15  -70.92     53.60        54          75   \n",
       "\n",
       "   Wind Speed (mph) Country  \n",
       "0              7.38      US  \n",
       "1             20.54      RU  \n",
       "2              4.70      ZA  \n",
       "3             11.41      AU  \n",
       "4              7.81      AU  \n",
       "5             14.41      RU  \n",
       "6             13.87      BR  \n",
       "7              3.33      ID  \n",
       "8              9.17      PT  \n",
       "9             19.46      CL  "
      ]
     },
     "execution_count": 21,
     "metadata": {},
     "output_type": "execute_result"
    }
   ],
   "source": [
    "#convert raw data to DataFrame\n",
    "weather_df = pd.DataFrame({\n",
    "    \"City\": city_name,\n",
    "    \"Lat\": latitude,\n",
    "    \"Lng\": longitude,\n",
    "    \"Max Temp\" : temperature,\n",
    "    \"Humidity\" : humidity,\n",
    "    \"Cloudiness\" : cloudiness,\n",
    "    \"Wind Speed (mph)\": wind_speed,\n",
    "    \"Country\": country\n",
    "})\n",
    "weather_df.head(10)\n"
   ]
  },
  {
   "cell_type": "code",
   "execution_count": 17,
   "metadata": {},
   "outputs": [],
   "source": [
    "#export data to csv\n",
    "weather_df.to_csv('weather_data_output.csv')\n",
    "\n",
    "#visualize to confirm airport data appears\n",
    "#weather_df.sort_values('weather_data_output', ascending=False)"
   ]
  },
  {
   "cell_type": "code",
   "execution_count": 19,
   "metadata": {},
   "outputs": [
    {
     "data": {
      "text/html": [
       "<div>\n",
       "<style scoped>\n",
       "    .dataframe tbody tr th:only-of-type {\n",
       "        vertical-align: middle;\n",
       "    }\n",
       "\n",
       "    .dataframe tbody tr th {\n",
       "        vertical-align: top;\n",
       "    }\n",
       "\n",
       "    .dataframe thead th {\n",
       "        text-align: right;\n",
       "    }\n",
       "</style>\n",
       "<table border=\"1\" class=\"dataframe\">\n",
       "  <thead>\n",
       "    <tr style=\"text-align: right;\">\n",
       "      <th></th>\n",
       "      <th>Lat</th>\n",
       "      <th>Lng</th>\n",
       "      <th>Max Temp</th>\n",
       "      <th>Humidity</th>\n",
       "      <th>Cloudiness</th>\n",
       "      <th>Wind Speed (mph)</th>\n",
       "    </tr>\n",
       "  </thead>\n",
       "  <tbody>\n",
       "    <tr>\n",
       "      <th>count</th>\n",
       "      <td>565.000000</td>\n",
       "      <td>565.000000</td>\n",
       "      <td>565.000000</td>\n",
       "      <td>565.000000</td>\n",
       "      <td>565.000000</td>\n",
       "      <td>565.000000</td>\n",
       "    </tr>\n",
       "    <tr>\n",
       "      <th>mean</th>\n",
       "      <td>18.039929</td>\n",
       "      <td>20.974142</td>\n",
       "      <td>55.722124</td>\n",
       "      <td>74.251327</td>\n",
       "      <td>52.591150</td>\n",
       "      <td>7.770301</td>\n",
       "    </tr>\n",
       "    <tr>\n",
       "      <th>std</th>\n",
       "      <td>33.579643</td>\n",
       "      <td>90.699544</td>\n",
       "      <td>24.786623</td>\n",
       "      <td>19.544744</td>\n",
       "      <td>38.993602</td>\n",
       "      <td>5.173963</td>\n",
       "    </tr>\n",
       "    <tr>\n",
       "      <th>min</th>\n",
       "      <td>-54.800000</td>\n",
       "      <td>-175.200000</td>\n",
       "      <td>-19.970000</td>\n",
       "      <td>12.000000</td>\n",
       "      <td>0.000000</td>\n",
       "      <td>0.070000</td>\n",
       "    </tr>\n",
       "    <tr>\n",
       "      <th>25%</th>\n",
       "      <td>-9.830000</td>\n",
       "      <td>-60.670000</td>\n",
       "      <td>39.200000</td>\n",
       "      <td>67.000000</td>\n",
       "      <td>12.000000</td>\n",
       "      <td>3.710000</td>\n",
       "    </tr>\n",
       "    <tr>\n",
       "      <th>50%</th>\n",
       "      <td>20.340000</td>\n",
       "      <td>25.570000</td>\n",
       "      <td>62.600000</td>\n",
       "      <td>78.000000</td>\n",
       "      <td>56.000000</td>\n",
       "      <td>6.930000</td>\n",
       "    </tr>\n",
       "    <tr>\n",
       "      <th>75%</th>\n",
       "      <td>45.120000</td>\n",
       "      <td>104.620000</td>\n",
       "      <td>75.870000</td>\n",
       "      <td>88.000000</td>\n",
       "      <td>90.000000</td>\n",
       "      <td>10.290000</td>\n",
       "    </tr>\n",
       "    <tr>\n",
       "      <th>max</th>\n",
       "      <td>78.220000</td>\n",
       "      <td>179.320000</td>\n",
       "      <td>96.800000</td>\n",
       "      <td>100.000000</td>\n",
       "      <td>100.000000</td>\n",
       "      <td>35.570000</td>\n",
       "    </tr>\n",
       "  </tbody>\n",
       "</table>\n",
       "</div>"
      ],
      "text/plain": [
       "              Lat         Lng    Max Temp    Humidity  Cloudiness  \\\n",
       "count  565.000000  565.000000  565.000000  565.000000  565.000000   \n",
       "mean    18.039929   20.974142   55.722124   74.251327   52.591150   \n",
       "std     33.579643   90.699544   24.786623   19.544744   38.993602   \n",
       "min    -54.800000 -175.200000  -19.970000   12.000000    0.000000   \n",
       "25%     -9.830000  -60.670000   39.200000   67.000000   12.000000   \n",
       "50%     20.340000   25.570000   62.600000   78.000000   56.000000   \n",
       "75%     45.120000  104.620000   75.870000   88.000000   90.000000   \n",
       "max     78.220000  179.320000   96.800000  100.000000  100.000000   \n",
       "\n",
       "       Wind Speed (mph)  \n",
       "count        565.000000  \n",
       "mean           7.770301  \n",
       "std            5.173963  \n",
       "min            0.070000  \n",
       "25%            3.710000  \n",
       "50%            6.930000  \n",
       "75%           10.290000  \n",
       "max           35.570000  "
      ]
     },
     "execution_count": 19,
     "metadata": {},
     "output_type": "execute_result"
    }
   ],
   "source": [
    "#summary of central tendency of dataset\n",
    "weather_df.describe()"
   ]
  },
  {
   "cell_type": "markdown",
   "metadata": {},
   "source": [
    "## Inspect the data and remove the cities where the humidity > 100%.\n",
    "----\n",
    "Skip this step if there are no cities that have humidity > 100%. "
   ]
  },
  {
   "cell_type": "code",
   "execution_count": 24,
   "metadata": {},
   "outputs": [
    {
     "data": {
      "text/plain": [
       "['City',\n",
       " 'Lat',\n",
       " 'Lng',\n",
       " 'Max Temp',\n",
       " 'Humidity',\n",
       " 'Cloudiness',\n",
       " 'Wind Speed (mph)',\n",
       " 'Country']"
      ]
     },
     "execution_count": 24,
     "metadata": {},
     "output_type": "execute_result"
    }
   ],
   "source": [
    "list(weather_df.columns)"
   ]
  },
  {
   "cell_type": "code",
   "execution_count": 29,
   "metadata": {},
   "outputs": [
    {
     "data": {
      "text/html": [
       "<div>\n",
       "<style scoped>\n",
       "    .dataframe tbody tr th:only-of-type {\n",
       "        vertical-align: middle;\n",
       "    }\n",
       "\n",
       "    .dataframe tbody tr th {\n",
       "        vertical-align: top;\n",
       "    }\n",
       "\n",
       "    .dataframe thead th {\n",
       "        text-align: right;\n",
       "    }\n",
       "</style>\n",
       "<table border=\"1\" class=\"dataframe\">\n",
       "  <thead>\n",
       "    <tr style=\"text-align: right;\">\n",
       "      <th></th>\n",
       "      <th>City</th>\n",
       "      <th>Lat</th>\n",
       "      <th>Lng</th>\n",
       "      <th>Max Temp</th>\n",
       "      <th>Humidity</th>\n",
       "      <th>Cloudiness</th>\n",
       "      <th>Wind Speed (mph)</th>\n",
       "      <th>Country</th>\n",
       "    </tr>\n",
       "  </thead>\n",
       "  <tbody>\n",
       "  </tbody>\n",
       "</table>\n",
       "</div>"
      ],
      "text/plain": [
       "Empty DataFrame\n",
       "Columns: [City, Lat, Lng, Max Temp, Humidity, Cloudiness, Wind Speed (mph), Country]\n",
       "Index: []"
      ]
     },
     "execution_count": 29,
     "metadata": {},
     "output_type": "execute_result"
    }
   ],
   "source": [
    "#check for cities with humidity under 100%\n",
    "weather_df.loc[weather_df['Humidity'] < 0]"
   ]
  },
  {
   "cell_type": "code",
   "execution_count": 30,
   "metadata": {},
   "outputs": [
    {
     "data": {
      "text/html": [
       "<div>\n",
       "<style scoped>\n",
       "    .dataframe tbody tr th:only-of-type {\n",
       "        vertical-align: middle;\n",
       "    }\n",
       "\n",
       "    .dataframe tbody tr th {\n",
       "        vertical-align: top;\n",
       "    }\n",
       "\n",
       "    .dataframe thead th {\n",
       "        text-align: right;\n",
       "    }\n",
       "</style>\n",
       "<table border=\"1\" class=\"dataframe\">\n",
       "  <thead>\n",
       "    <tr style=\"text-align: right;\">\n",
       "      <th></th>\n",
       "      <th>City</th>\n",
       "      <th>Lat</th>\n",
       "      <th>Lng</th>\n",
       "      <th>Max Temp</th>\n",
       "      <th>Humidity</th>\n",
       "      <th>Cloudiness</th>\n",
       "      <th>Wind Speed (mph)</th>\n",
       "      <th>Country</th>\n",
       "    </tr>\n",
       "  </thead>\n",
       "  <tbody>\n",
       "    <tr>\n",
       "      <th>0</th>\n",
       "      <td>Albany</td>\n",
       "      <td>42.60</td>\n",
       "      <td>-73.97</td>\n",
       "      <td>37.99</td>\n",
       "      <td>75</td>\n",
       "      <td>100</td>\n",
       "      <td>7.38</td>\n",
       "      <td>US</td>\n",
       "    </tr>\n",
       "    <tr>\n",
       "      <th>1</th>\n",
       "      <td>Khatanga</td>\n",
       "      <td>71.97</td>\n",
       "      <td>102.50</td>\n",
       "      <td>14.18</td>\n",
       "      <td>96</td>\n",
       "      <td>100</td>\n",
       "      <td>20.54</td>\n",
       "      <td>RU</td>\n",
       "    </tr>\n",
       "    <tr>\n",
       "      <th>2</th>\n",
       "      <td>Port Elizabeth</td>\n",
       "      <td>-33.92</td>\n",
       "      <td>25.57</td>\n",
       "      <td>60.80</td>\n",
       "      <td>100</td>\n",
       "      <td>100</td>\n",
       "      <td>4.70</td>\n",
       "      <td>ZA</td>\n",
       "    </tr>\n",
       "    <tr>\n",
       "      <th>3</th>\n",
       "      <td>Carnarvon</td>\n",
       "      <td>-24.87</td>\n",
       "      <td>113.63</td>\n",
       "      <td>71.60</td>\n",
       "      <td>83</td>\n",
       "      <td>0</td>\n",
       "      <td>11.41</td>\n",
       "      <td>AU</td>\n",
       "    </tr>\n",
       "    <tr>\n",
       "      <th>4</th>\n",
       "      <td>Busselton</td>\n",
       "      <td>-33.65</td>\n",
       "      <td>115.33</td>\n",
       "      <td>64.00</td>\n",
       "      <td>67</td>\n",
       "      <td>0</td>\n",
       "      <td>7.81</td>\n",
       "      <td>AU</td>\n",
       "    </tr>\n",
       "    <tr>\n",
       "      <th>...</th>\n",
       "      <td>...</td>\n",
       "      <td>...</td>\n",
       "      <td>...</td>\n",
       "      <td>...</td>\n",
       "      <td>...</td>\n",
       "      <td>...</td>\n",
       "      <td>...</td>\n",
       "      <td>...</td>\n",
       "    </tr>\n",
       "    <tr>\n",
       "      <th>560</th>\n",
       "      <td>Colquechaca</td>\n",
       "      <td>-18.67</td>\n",
       "      <td>-66.02</td>\n",
       "      <td>42.24</td>\n",
       "      <td>80</td>\n",
       "      <td>100</td>\n",
       "      <td>10.27</td>\n",
       "      <td>BO</td>\n",
       "    </tr>\n",
       "    <tr>\n",
       "      <th>561</th>\n",
       "      <td>Abu Dhabi</td>\n",
       "      <td>24.47</td>\n",
       "      <td>54.37</td>\n",
       "      <td>75.20</td>\n",
       "      <td>50</td>\n",
       "      <td>0</td>\n",
       "      <td>2.24</td>\n",
       "      <td>AE</td>\n",
       "    </tr>\n",
       "    <tr>\n",
       "      <th>562</th>\n",
       "      <td>Vänersborg</td>\n",
       "      <td>58.38</td>\n",
       "      <td>12.32</td>\n",
       "      <td>46.99</td>\n",
       "      <td>65</td>\n",
       "      <td>54</td>\n",
       "      <td>14.99</td>\n",
       "      <td>SE</td>\n",
       "    </tr>\n",
       "    <tr>\n",
       "      <th>563</th>\n",
       "      <td>Bakel</td>\n",
       "      <td>14.90</td>\n",
       "      <td>-12.46</td>\n",
       "      <td>84.18</td>\n",
       "      <td>14</td>\n",
       "      <td>10</td>\n",
       "      <td>8.79</td>\n",
       "      <td>SN</td>\n",
       "    </tr>\n",
       "    <tr>\n",
       "      <th>564</th>\n",
       "      <td>Vilhena</td>\n",
       "      <td>-12.74</td>\n",
       "      <td>-60.15</td>\n",
       "      <td>89.60</td>\n",
       "      <td>49</td>\n",
       "      <td>0</td>\n",
       "      <td>8.05</td>\n",
       "      <td>BR</td>\n",
       "    </tr>\n",
       "  </tbody>\n",
       "</table>\n",
       "<p>565 rows × 8 columns</p>\n",
       "</div>"
      ],
      "text/plain": [
       "               City    Lat     Lng  Max Temp  Humidity  Cloudiness  \\\n",
       "0            Albany  42.60  -73.97     37.99        75         100   \n",
       "1          Khatanga  71.97  102.50     14.18        96         100   \n",
       "2    Port Elizabeth -33.92   25.57     60.80       100         100   \n",
       "3         Carnarvon -24.87  113.63     71.60        83           0   \n",
       "4         Busselton -33.65  115.33     64.00        67           0   \n",
       "..              ...    ...     ...       ...       ...         ...   \n",
       "560     Colquechaca -18.67  -66.02     42.24        80         100   \n",
       "561       Abu Dhabi  24.47   54.37     75.20        50           0   \n",
       "562      Vänersborg  58.38   12.32     46.99        65          54   \n",
       "563           Bakel  14.90  -12.46     84.18        14          10   \n",
       "564         Vilhena -12.74  -60.15     89.60        49           0   \n",
       "\n",
       "     Wind Speed (mph) Country  \n",
       "0                7.38      US  \n",
       "1               20.54      RU  \n",
       "2                4.70      ZA  \n",
       "3               11.41      AU  \n",
       "4                7.81      AU  \n",
       "..                ...     ...  \n",
       "560             10.27      BO  \n",
       "561              2.24      AE  \n",
       "562             14.99      SE  \n",
       "563              8.79      SN  \n",
       "564              8.05      BR  \n",
       "\n",
       "[565 rows x 8 columns]"
      ]
     },
     "execution_count": 30,
     "metadata": {},
     "output_type": "execute_result"
    }
   ],
   "source": [
    "#check that above code works by pulling humidity over 100%\n",
    "weather_df.loc[weather_df['Humidity'] > 0]"
   ]
  },
  {
   "cell_type": "code",
   "execution_count": 19,
   "metadata": {},
   "outputs": [
    {
     "data": {
      "text/html": [
       "<div>\n",
       "<style scoped>\n",
       "    .dataframe tbody tr th:only-of-type {\n",
       "        vertical-align: middle;\n",
       "    }\n",
       "\n",
       "    .dataframe tbody tr th {\n",
       "        vertical-align: top;\n",
       "    }\n",
       "\n",
       "    .dataframe thead th {\n",
       "        text-align: right;\n",
       "    }\n",
       "</style>\n",
       "<table border=\"1\" class=\"dataframe\">\n",
       "  <thead>\n",
       "    <tr style=\"text-align: right;\">\n",
       "      <th></th>\n",
       "      <th>City</th>\n",
       "      <th>Lat</th>\n",
       "      <th>Lng</th>\n",
       "      <th>Max Temp</th>\n",
       "      <th>Humidity</th>\n",
       "      <th>Cloudiness</th>\n",
       "      <th>Wind Speed</th>\n",
       "      <th>Country</th>\n",
       "      <th>Date</th>\n",
       "    </tr>\n",
       "  </thead>\n",
       "  <tbody>\n",
       "    <tr>\n",
       "      <td>0</td>\n",
       "      <td>butaritari</td>\n",
       "      <td>3.07</td>\n",
       "      <td>172.79</td>\n",
       "      <td>83.32</td>\n",
       "      <td>74</td>\n",
       "      <td>84</td>\n",
       "      <td>10.42</td>\n",
       "      <td>KI</td>\n",
       "      <td>1593605283</td>\n",
       "    </tr>\n",
       "    <tr>\n",
       "      <td>1</td>\n",
       "      <td>yerbogachen</td>\n",
       "      <td>61.28</td>\n",
       "      <td>108.01</td>\n",
       "      <td>79.52</td>\n",
       "      <td>58</td>\n",
       "      <td>20</td>\n",
       "      <td>7.70</td>\n",
       "      <td>RU</td>\n",
       "      <td>1593605121</td>\n",
       "    </tr>\n",
       "    <tr>\n",
       "      <td>2</td>\n",
       "      <td>cape town</td>\n",
       "      <td>-33.93</td>\n",
       "      <td>18.42</td>\n",
       "      <td>73.00</td>\n",
       "      <td>77</td>\n",
       "      <td>27</td>\n",
       "      <td>4.70</td>\n",
       "      <td>ZA</td>\n",
       "      <td>1593605039</td>\n",
       "    </tr>\n",
       "    <tr>\n",
       "      <td>3</td>\n",
       "      <td>touba</td>\n",
       "      <td>8.28</td>\n",
       "      <td>-7.68</td>\n",
       "      <td>79.97</td>\n",
       "      <td>75</td>\n",
       "      <td>82</td>\n",
       "      <td>3.58</td>\n",
       "      <td>CI</td>\n",
       "      <td>1593605284</td>\n",
       "    </tr>\n",
       "    <tr>\n",
       "      <td>4</td>\n",
       "      <td>jamestown</td>\n",
       "      <td>42.10</td>\n",
       "      <td>-79.24</td>\n",
       "      <td>64.00</td>\n",
       "      <td>88</td>\n",
       "      <td>1</td>\n",
       "      <td>6.93</td>\n",
       "      <td>US</td>\n",
       "      <td>1593605284</td>\n",
       "    </tr>\n",
       "  </tbody>\n",
       "</table>\n",
       "</div>"
      ],
      "text/plain": [
       "          City    Lat     Lng  Max Temp  Humidity  Cloudiness  Wind Speed  \\\n",
       "0   butaritari   3.07  172.79     83.32        74          84       10.42   \n",
       "1  yerbogachen  61.28  108.01     79.52        58          20        7.70   \n",
       "2    cape town -33.93   18.42     73.00        77          27        4.70   \n",
       "3        touba   8.28   -7.68     79.97        75          82        3.58   \n",
       "4    jamestown  42.10  -79.24     64.00        88           1        6.93   \n",
       "\n",
       "  Country        Date  \n",
       "0      KI  1593605283  \n",
       "1      RU  1593605121  \n",
       "2      ZA  1593605039  \n",
       "3      CI  1593605284  \n",
       "4      US  1593605284  "
      ]
     },
     "execution_count": 19,
     "metadata": {},
     "output_type": "execute_result"
    }
   ],
   "source": [
    "# Make a new DataFrame equal to the city data to drop all humidity outliers by index.\n",
    "# Passing \"inplace=False\" will make a copy of the city_data DataFrame, which we call \"clean_city_data\".\n"
   ]
  },
  {
   "cell_type": "code",
   "execution_count": null,
   "metadata": {},
   "outputs": [],
   "source": [
    "\n"
   ]
  },
  {
   "cell_type": "markdown",
   "metadata": {},
   "source": [
    "## Plotting the Data\n",
    "* Use proper labeling of the plots using plot titles (including date of analysis) and axes labels.\n",
    "* Save the plotted figures as .pngs."
   ]
  },
  {
   "cell_type": "markdown",
   "metadata": {},
   "source": [
    "## Latitude vs. Temperature Plot"
   ]
  },
  {
   "cell_type": "code",
   "execution_count": 39,
   "metadata": {
    "scrolled": true
   },
   "outputs": [
    {
     "data": {
      "text/plain": [
       "Text(0, 0.5, 'Max Temperature (F)')"
      ]
     },
     "execution_count": 39,
     "metadata": {},
     "output_type": "execute_result"
    },
    {
     "data": {
      "image/png": "[encoded data removed]",
      "text/plain": [
       "<Figure size 432x288 with 1 Axes>"
      ]
     },
     "metadata": {
      "needs_background": "light"
     },
     "output_type": "display_data"
    }
   ],
   "source": [
    "x_axis = weather_df['Lat']\n",
    "y_axis = weather_df['Max Temp']\n",
    "\n",
    "# making a scatter plot\n",
    "plt.scatter(x_axis, y_axis, marker='o')\n",
    "\n",
    "# giving the name to the x and y label\n",
    "plt.title('City Latitude vs. Max Temperature')\n",
    "plt.xlabel('Latitude')\n",
    "plt.ylabel('Max Temperature (F)')"
   ]
  },
  {
   "cell_type": "markdown",
   "metadata": {},
   "source": [
    "## Latitude vs. Humidity Plot"
   ]
  },
  {
   "cell_type": "code",
   "execution_count": 41,
   "metadata": {},
   "outputs": [
    {
     "data": {
      "text/plain": [
       "Text(0, 0.5, 'Humidity (%)')"
      ]
     },
     "execution_count": 41,
     "metadata": {},
     "output_type": "execute_result"
    },
    {
     "data": {
      "image/png": "[encoded data removed]",
      "text/plain": [
       "<Figure size 432x288 with 1 Axes>"
      ]
     },
     "metadata": {
      "needs_background": "light"
     },
     "output_type": "display_data"
    }
   ],
   "source": [
    "x_axis = weather_df['Lat']\n",
    "y_axis = weather_df['Humidity']\n",
    "\n",
    "# making a scatter plot\n",
    "plt.scatter(x_axis, y_axis, marker='o')\n",
    "\n",
    "# giving the name to the x and y label\n",
    "plt.title('City Latitude vs. Humidity')\n",
    "plt.xlabel('Latitude')\n",
    "plt.ylabel('Humidity (%)')"
   ]
  },
  {
   "cell_type": "markdown",
   "metadata": {},
   "source": [
    "## Latitude vs. Cloudiness Plot"
   ]
  },
  {
   "cell_type": "code",
   "execution_count": 42,
   "metadata": {},
   "outputs": [
    {
     "data": {
      "text/plain": [
       "Text(0, 0.5, 'Cloudiness (%)')"
      ]
     },
     "execution_count": 42,
     "metadata": {},
     "output_type": "execute_result"
    },
    {
     "data": {
      "image/png": "[encoded data removed]",
      "text/plain": [
       "<Figure size 432x288 with 1 Axes>"
      ]
     },
     "metadata": {
      "needs_background": "light"
     },
     "output_type": "display_data"
    }
   ],
   "source": [
    "x_axis = weather_df['Lat']\n",
    "y_axis = weather_df['Cloudiness']\n",
    "\n",
    "# making a scatter plot\n",
    "plt.scatter(x_axis, y_axis, marker='o')\n",
    "\n",
    "# giving the name to the x and y label\n",
    "plt.title('City Latitude vs. Humidity')\n",
    "plt.xlabel('Latitude')\n",
    "plt.ylabel('Cloudiness (%)')"
   ]
  },
  {
   "cell_type": "markdown",
   "metadata": {},
   "source": [
    "## Latitude vs. Wind Speed Plot"
   ]
  },
  {
   "cell_type": "code",
   "execution_count": 43,
   "metadata": {},
   "outputs": [
    {
     "data": {
      "text/plain": [
       "Text(0, 0.5, 'Wind Speed (mph))')"
      ]
     },
     "execution_count": 43,
     "metadata": {},
     "output_type": "execute_result"
    },
    {
     "data": {
      "image/png": "[encoded data removed]",
      "text/plain": [
       "<Figure size 432x288 with 1 Axes>"
      ]
     },
     "metadata": {
      "needs_background": "light"
     },
     "output_type": "display_data"
    }
   ],
   "source": [
    "x_axis = weather_df['Lat']\n",
    "y_axis = weather_df['Wind Speed (mph)']\n",
    "\n",
    "# making a scatter plot\n",
    "plt.scatter(x_axis, y_axis, marker='o')\n",
    "\n",
    "# giving the name to the x and y label\n",
    "plt.title('City Latitude vs. Wind Speed (mph)')\n",
    "plt.xlabel('Latitude')\n",
    "plt.ylabel('Wind Speed (mph))')"
   ]
  },
  {
   "cell_type": "markdown",
   "metadata": {},
   "source": [
    "## Linear Regression"
   ]
  },
  {
   "cell_type": "code",
   "execution_count": 24,
   "metadata": {},
   "outputs": [],
   "source": []
  },
  {
   "cell_type": "markdown",
   "metadata": {},
   "source": [
    "####  Northern Hemisphere - Max Temp vs. Latitude Linear Regression"
   ]
  },
  {
   "cell_type": "code",
   "execution_count": 52,
   "metadata": {},
   "outputs": [
    {
     "name": "stdout",
     "output_type": "stream",
     "text": [
      "The r-value is -0.73\n"
     ]
    },
    {
     "data": {
      "image/png": "[encoded data removed]",
      "text/plain": [
       "<Figure size 432x288 with 1 Axes>"
      ]
     },
     "metadata": {
      "needs_background": "light"
     },
     "output_type": "display_data"
    }
   ],
   "source": [
    "x_axis = weather_df['Lat']\n",
    "y_axis = weather_df['Max Temp']\n",
    "\n",
    "# making a scatter plot\n",
    "plt.scatter(x_axis, y_axis, marker='o')\n",
    "\n",
    "# giving the name to the x and y label\n",
    "plt.title('City Latitude vs. Max Temperature')\n",
    "plt.xlabel('Latitude')\n",
    "plt.ylabel('Max Temperature (F)')\n",
    "\n",
    "#finding the correlation\n",
    "correlation = st.pearsonr(x_axis, y_axis)\n",
    "correlation\n",
    "print(f\"The r-value is {round(correlation[0],2)}\")\n",
    "\n",
    "(slope, intercept, rvalue, pvalue, stderr) = linregress(x_axis, y_axis)\n",
    "regress_values = x_axis * slope + intercept\n",
    "line_eq = \"y = \" + str(round(slope,2)) + \"x + \" + str(round(intercept,2))\n",
    "plt.annotate(line_eq,(0,-10),fontsize=15,color=\"red\")\n",
    "plt.scatter(x_axis, y_axis, facecolor='grey')\n",
    "plt.plot(x_axis,regress_values,\"r-\")\n",
    "plt.show()"
   ]
  },
  {
   "cell_type": "markdown",
   "metadata": {},
   "source": [
    "####  Southern Hemisphere - Max Temp vs. Latitude Linear Regression"
   ]
  },
  {
   "cell_type": "code",
   "execution_count": 26,
   "metadata": {},
   "outputs": [
    {
     "name": "stdout",
     "output_type": "stream",
     "text": [
      "The r-value is: 0.6082708688906918\n"
     ]
    },
    {
     "data": {
      "image/png": "[encoded data removed]",
      "text/plain": [
       "<Figure size 432x288 with 1 Axes>"
      ]
     },
     "metadata": {
      "needs_background": "light"
     },
     "output_type": "display_data"
    }
   ],
   "source": []
  },
  {
   "cell_type": "markdown",
   "metadata": {},
   "source": [
    "####  Northern Hemisphere - Humidity (%) vs. Latitude Linear Regression"
   ]
  },
  {
   "cell_type": "code",
   "execution_count": 56,
   "metadata": {},
   "outputs": [
    {
     "name": "stdout",
     "output_type": "stream",
     "text": [
      "The r-value is 0.3\n"
     ]
    },
    {
     "data": {
      "image/png": "[encoded data removed]",
      "text/plain": [
       "<Figure size 432x288 with 1 Axes>"
      ]
     },
     "metadata": {
      "needs_background": "light"
     },
     "output_type": "display_data"
    }
   ],
   "source": [
    "x_axis = weather_df['Lat']\n",
    "y_axis = weather_df['Humidity']\n",
    "\n",
    "# making a scatter plot\n",
    "plt.scatter(x_axis, y_axis, marker='o')\n",
    "\n",
    "# giving the name to the x and y label\n",
    "plt.title('City Latitude vs. Humidity')\n",
    "plt.xlabel('Latitude')\n",
    "plt.ylabel('Humidity (%)')\n",
    "\n",
    "#finding the correlation\n",
    "correlation = st.pearsonr(x_axis, y_axis)\n",
    "correlation\n",
    "print(f\"The r-value is {round(correlation[0],2)}\")\n",
    "\n",
    "(slope, intercept, rvalue, pvalue, stderr) = linregress(x_axis, y_axis)\n",
    "regress_values = x_axis * slope + intercept\n",
    "line_eq = \"y = \" + str(round(slope,2)) + \"x + \" + str(round(intercept,2))\n",
    "plt.annotate(line_eq,(0,10),fontsize=15,color=\"red\")\n",
    "plt.scatter(x_axis, y_axis, facecolor='grey')\n",
    "plt.plot(x_axis,regress_values,\"r-\")\n",
    "plt.show()"
   ]
  },
  {
   "cell_type": "markdown",
   "metadata": {},
   "source": [
    "####  Southern Hemisphere - Humidity (%) vs. Latitude Linear Regression"
   ]
  },
  {
   "cell_type": "code",
   "execution_count": 28,
   "metadata": {},
   "outputs": [
    {
     "name": "stdout",
     "output_type": "stream",
     "text": [
      "The r-value is: 0.014985174297345524\n"
     ]
    },
    {
     "data": {
      "image/png": "[encoded data removed]",
      "text/plain": [
       "<Figure size 432x288 with 1 Axes>"
      ]
     },
     "metadata": {
      "needs_background": "light"
     },
     "output_type": "display_data"
    }
   ],
   "source": []
  },
  {
   "cell_type": "markdown",
   "metadata": {},
   "source": [
    "####  Northern Hemisphere - Cloudiness (%) vs. Latitude Linear Regression"
   ]
  },
  {
   "cell_type": "code",
   "execution_count": 58,
   "metadata": {},
   "outputs": [
    {
     "data": {
      "image/png": "[encoded data removed]",
      "text/plain": [
       "<Figure size 432x288 with 1 Axes>"
      ]
     },
     "metadata": {
      "needs_background": "light"
     },
     "output_type": "display_data"
    }
   ],
   "source": [
    "x_axis = weather_df['Lat']\n",
    "y_axis = weather_df['Cloudiness']\n",
    "\n",
    "# making a scatter plot\n",
    "plt.scatter(x_axis, y_axis, marker='o')\n",
    "\n",
    "# giving the name to the x and y label\n",
    "plt.title('City Latitude vs. Humidity')\n",
    "plt.xlabel('Latitude')\n",
    "plt.ylabel('Cloudiness (%)')\n",
    "\n",
    "(slope, intercept, rvalue, pvalue, stderr) = linregress(x_axis, y_axis)\n",
    "regress_values = x_axis * slope + intercept\n",
    "line_eq = \"y = \" + str(round(slope,2)) + \"x + \" + str(round(intercept,2))\n",
    "plt.annotate(line_eq,(20,10),fontsize=15,color=\"red\")\n",
    "plt.scatter(x_axis, y_axis, facecolor='grey')\n",
    "plt.plot(x_axis,regress_values,\"r-\")\n",
    "plt.show()"
   ]
  },
  {
   "cell_type": "markdown",
   "metadata": {},
   "source": [
    "####  Southern Hemisphere - Cloudiness (%) vs. Latitude Linear Regression"
   ]
  },
  {
   "cell_type": "code",
   "execution_count": 30,
   "metadata": {},
   "outputs": [
    {
     "name": "stdout",
     "output_type": "stream",
     "text": [
      "The r-value is: 0.0035263772085582894\n"
     ]
    },
    {
     "data": {
      "image/png": "[encoded data removed]",
      "text/plain": [
       "<Figure size 432x288 with 1 Axes>"
      ]
     },
     "metadata": {
      "needs_background": "light"
     },
     "output_type": "display_data"
    }
   ],
   "source": []
  },
  {
   "cell_type": "markdown",
   "metadata": {},
   "source": [
    "####  Northern Hemisphere - Wind Speed (mph) vs. Latitude Linear Regression"
   ]
  },
  {
   "cell_type": "code",
   "execution_count": 60,
   "metadata": {},
   "outputs": [
    {
     "data": {
      "image/png": "[encoded data removed]",
      "text/plain": [
       "<Figure size 432x288 with 1 Axes>"
      ]
     },
     "metadata": {
      "needs_background": "light"
     },
     "output_type": "display_data"
    }
   ],
   "source": [
    "x_axis = weather_df['Lat']\n",
    "y_axis = weather_df['Wind Speed (mph)']\n",
    "\n",
    "# making a scatter plot\n",
    "plt.scatter(x_axis, y_axis, marker='o')\n",
    "\n",
    "# giving the name to the x and y label\n",
    "plt.title('City Latitude vs. Wind Speed (mph)')\n",
    "plt.xlabel('Latitude')\n",
    "plt.ylabel('Wind Speed (mph))')\n",
    "\n",
    "(slope, intercept, rvalue, pvalue, stderr) = linregress(x_axis, y_axis)\n",
    "regress_values = x_axis * slope + intercept\n",
    "line_eq = \"y = \" + str(round(slope,2)) + \"x + \" + str(round(intercept,2))\n",
    "plt.annotate(line_eq,(0,25),fontsize=15,color=\"red\")\n",
    "plt.scatter(x_axis, y_axis, facecolor='grey')\n",
    "plt.plot(x_axis,regress_values,\"r-\")\n",
    "plt.show()"
   ]
  },
  {
   "cell_type": "markdown",
   "metadata": {},
   "source": [
    "####  Southern Hemisphere - Wind Speed (mph) vs. Latitude Linear Regression"
   ]
  },
  {
   "cell_type": "code",
   "execution_count": 32,
   "metadata": {},
   "outputs": [
    {
     "name": "stdout",
     "output_type": "stream",
     "text": [
      "The r-value is: 0.017128274759839232\n"
     ]
    },
    {
     "data": {
      "image/png": "[encoded data removed]",
      "text/plain": [
       "<Figure size 432x288 with 1 Axes>"
      ]
     },
     "metadata": {
      "needs_background": "light"
     },
     "output_type": "display_data"
    }
   ],
   "source": []
  },
  {
   "cell_type": "code",
   "execution_count": null,
   "metadata": {},
   "outputs": [],
   "source": []
  }
 ],
 "metadata": {
  "anaconda-cloud": {},
  "kernel_info": {
   "name": "python3"
  },
  "kernelspec": {
   "display_name": "Python 3",
   "language": "python",
   "name": "python3"
  },
  "language_info": {
   "codemirror_mode": {
    "name": "ipython",
    "version": 3
   },
   "file_extension": ".py",
   "mimetype": "text/x-python",
   "name": "python",
   "nbconvert_exporter": "python",
   "pygments_lexer": "ipython3",
   "version": "3.6.10"
  },
  "latex_envs": {
   "LaTeX_envs_menu_present": true,
   "autoclose": false,
   "autocomplete": true,
   "bibliofile": "biblio.bib",
   "cite_by": "apalike",
   "current_citInitial": 1,
   "eqLabelWithNumbers": true,
   "eqNumInitial": 1,
   "hotkeys": {
    "equation": "Ctrl-E",
    "itemize": "Ctrl-I"
   },
   "labels_anchors": false,
   "latex_user_defs": false,
   "report_style_numbering": false,
   "user_envs_cfg": false
  },
  "nteract": {
   "version": "0.12.3"
  }
 },
 "nbformat": 4,
 "nbformat_minor": 2
}
